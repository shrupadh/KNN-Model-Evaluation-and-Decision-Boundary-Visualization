{
 "cells": [
  {
   "cell_type": "markdown",
   "id": "a91d2a86",
   "metadata": {},
   "source": [
    "# STAT6340\n",
    "### NAME:Shradha Upadhyay"
   ]
  },
  {
   "cell_type": "code",
   "execution_count": null,
   "id": "683e8ee3",
   "metadata": {},
   "outputs": [],
   "source": [
    "import pandas as pd\n",
    "import numpy as np\n",
    "import matplotlib.pyplot as plt\n",
    "from sklearn.neighbors import KNeighborsClassifier\n",
    "from sklearn.metrics import accuracy_score\n",
    "\n",
    "# Load the data\n",
    "df = pd.read_csv('Smarket.csv')\n",
    "\n",
    "# Look at the data\n",
    "print(df.head())\n",
    "\n",
    "# Structure of the dataframe\n",
    "print(df.info())"
   ]
  },
  {
   "cell_type": "code",
   "execution_count": null,
   "id": "e9fc61ff",
   "metadata": {},
   "outputs": [],
   "source": [
    "# Check the distribution of the 'Year' column\n",
    "print(df['Year'].value_counts())\n",
    "\n",
    "# Summary statistics\n",
    "print(df.describe())\n",
    "\n",
    "# Count of negative vs non-negative 'Today' values\n",
    "print(\"Count of 'Today' < 0:\", (df['Today'] < 0).sum())\n",
    "print(\"Count of 'Today' >= 0:\", (df['Today'] >= 0).sum())\n",
    "\n",
    "# Pair plot (can be slow with large datasets)\n",
    "pd.plotting.scatter_matrix(df, figsize=(10, 10))\n",
    "plt.show()"
   ]
  },
  {
   "cell_type": "code",
   "execution_count": null,
   "id": "ba7311d1",
   "metadata": {},
   "outputs": [],
   "source": [
    "# Calculate correlation matrix excluding 'Direction' column\n",
    "correlation_matrix = df.iloc[:, :-1].corr()\n",
    "print(correlation_matrix.round(2))"
   ]
  },
  {
   "cell_type": "code",
   "execution_count": null,
   "id": "f0d5b612",
   "metadata": {},
   "outputs": [],
   "source": [
    "# Use 'Year' column to create training and test masks\n",
    "train_mask = df['Year'] < 2005\n",
    "\n",
    "# Prepare training data\n",
    "train_X = df.loc[train_mask, ['Lag1', 'Lag2']].values\n",
    "train_y = df.loc[train_mask, 'Direction'].values\n",
    "\n",
    "# Prepare test data\n",
    "test_X = df.loc[~train_mask, ['Lag1', 'Lag2']].values\n",
    "test_y = df.loc[~train_mask, 'Direction'].values\n",
    "\n",
    "# Plot the training data\n",
    "plt.scatter(train_X[:, 0], train_X[:, 1], c=np.where(train_y == 'Up', 'green', 'red'))\n",
    "plt.xlabel('Lag1')\n",
    "plt.ylabel('Lag2')\n",
    "plt.show()"
   ]
  },
  {
   "cell_type": "code",
   "execution_count": null,
   "id": "7e3278c6",
   "metadata": {},
   "outputs": [],
   "source": [
    "# KNN with k=1\n",
    "knn = KNeighborsClassifier(n_neighbors=1)\n",
    "knn.fit(train_X, train_y)\n",
    "\n",
    "# Predictions on training data\n",
    "train_pred = knn.predict(train_X)\n",
    "print(\"Training Error Rate:\", 1 - accuracy_score(train_y, train_pred))\n",
    "\n",
    "# Predictions on test data\n",
    "test_pred = knn.predict(test_X)\n",
    "print(\"Test Error Rate:\", 1 - accuracy_score(test_y, test_pred))\n",
    "\n",
    "# Confusion Matrix for Test Data\n",
    "print(pd.crosstab(test_pred, test_y, rownames=['Predicted'], colnames=['Actual']))"
   ]
  },
  {
   "cell_type": "code",
   "execution_count": null,
   "id": "1f30e80c",
   "metadata": {},
   "outputs": [],
   "source": [
    "ks = list(range(1, 31)) + list(range(35, 101, 5))\n",
    "train_error_rates = []\n",
    "test_error_rates = []\n",
    "\n",
    "for k in ks:\n",
    "    knn = KNeighborsClassifier(n_neighbors=k)\n",
    "    knn.fit(train_X, train_y)\n",
    "    \n",
    "    train_pred = knn.predict(train_X)\n",
    "    test_pred = knn.predict(test_X)\n",
    "    \n",
    "    train_error_rates.append(1 - accuracy_score(train_y, train_pred))\n",
    "    test_error_rates.append(1 - accuracy_score(test_y, test_pred))\n",
    "\n",
    "# Plot the error rates\n",
    "plt.plot(ks, train_error_rates, label='Training Error Rate', color='blue', marker='o')\n",
    "plt.plot(ks, test_error_rates, label='Test Error Rate', color='purple', marker='o')\n",
    "plt.xlabel('Number of Nearest Neighbors')\n",
    "plt.ylabel('Error Rate')\n",
    "plt.legend()\n",
    "plt.show()\n",
    "\n",
    "# Best k based on the minimum test error rate\n",
    "optimal_k = ks[np.argmin(test_error_rates)]\n",
    "print(f'Optimal k: {optimal_k}')"
   ]
  },
  {
   "cell_type": "code",
   "execution_count": null,
   "id": "652c1a85",
   "metadata": {},
   "outputs": [],
   "source": [
    "# Create a grid for plotting the decision boundary\n",
    "x1_grid = np.linspace(train_X[:, 0].min(), train_X[:, 0].max(), 50)\n",
    "x2_grid = np.linspace(train_X[:, 1].min(), train_X[:, 1].max(), 50)\n",
    "xx, yy = np.meshgrid(x1_grid, x2_grid)\n",
    "grid = np.c_[xx.ravel(), yy.ravel()]\n",
    "\n",
    "# Fit KNN with the optimal k\n",
    "knn = KNeighborsClassifier(n_neighbors=optimal_k)\n",
    "knn.fit(train_X, train_y)\n",
    "grid_pred = knn.predict(grid)\n",
    "probabilities = knn.predict_proba(grid)[:, 1].reshape(xx.shape)\n",
    "\n",
    "# Plot the decision boundary\n",
    "plt.contourf(xx, yy, probabilities, levels=[0, 0.5, 1], alpha=0.3)\n",
    "plt.scatter(train_X[:, 0], train_X[:, 1], c=np.where(train_y == 'Up', 'green', 'red'))\n",
    "plt.xlabel('Lag1')\n",
    "plt.ylabel('Lag2')\n",
    "plt.show()"
   ]
  },
  {
   "cell_type": "code",
   "execution_count": null,
   "id": "5d8ef9fe",
   "metadata": {},
   "outputs": [],
   "source": [
    "# Naive approach: Predict 'Up' for every day\n",
    "naive_pred = np.array(['Up'] * len(test_y))\n",
    "\n",
    "# Test error rate for naive prediction\n",
    "naive_error_rate = 1 - accuracy_score(test_y, naive_pred)\n",
    "print(f\"Naive Prediction Test Error Rate: {naive_error_rate}\")"
   ]
  }
 ],
 "metadata": {
  "kernelspec": {
   "display_name": "Python 3 (ipykernel)",
   "language": "python",
   "name": "python3"
  },
  "language_info": {
   "codemirror_mode": {
    "name": "ipython",
    "version": 3
   },
   "file_extension": ".py",
   "mimetype": "text/x-python",
   "name": "python",
   "nbconvert_exporter": "python",
   "pygments_lexer": "ipython3",
   "version": "3.9.13"
  }
 },
 "nbformat": 4,
 "nbformat_minor": 5
}
